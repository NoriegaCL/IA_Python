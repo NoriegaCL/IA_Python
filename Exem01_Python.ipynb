{
  "nbformat": 4,
  "nbformat_minor": 0,
  "metadata": {
    "colab": {
      "provenance": [],
      "authorship_tag": "ABX9TyNjOhDXCWSTAOgP6U5lMTTX",
      "include_colab_link": true
    },
    "kernelspec": {
      "name": "python3",
      "display_name": "Python 3"
    },
    "language_info": {
      "name": "python"
    }
  },
  "cells": [
    {
      "cell_type": "markdown",
      "metadata": {
        "id": "view-in-github",
        "colab_type": "text"
      },
      "source": [
        "<a href=\"https://colab.research.google.com/github/NoriegaCL/IA_Python/blob/main/Exem01_Python.ipynb\" target=\"_parent\"><img src=\"https://colab.research.google.com/assets/colab-badge.svg\" alt=\"Open In Colab\"/></a>"
      ]
    },
    {
      "cell_type": "code",
      "execution_count": 15,
      "metadata": {
        "colab": {
          "base_uri": "https://localhost:8080/"
        },
        "id": "qVtApC0yvrmY",
        "outputId": "481b5954-3c3c-4e4d-c339-a7dadee139f5"
      },
      "outputs": [
        {
          "output_type": "stream",
          "name": "stdout",
          "text": [
            "<class 'int'>\n",
            "3\n",
            "4\n",
            "2\n",
            "6\n",
            "9\n",
            "4\n",
            "8\n",
            "<class 'float'>\n",
            "2.5 3.5 5.0 6.25\n"
          ]
        }
      ],
      "source": [
        "x = 3\n",
        "print(type(x))\n",
        "# Mostra \"<class 'int'>\"\n",
        "print(x)\n",
        "# Mostra \"3\"\n",
        "print(x + 1)\n",
        "# Adiciona e mostra \"4\"\n",
        "print(x - 1)\n",
        "# Subtrai e mostra \"2\"\n",
        "print(x * 2)\n",
        "# Multiplica e mostra \"6\"\n",
        "print(x ** 2)\n",
        "# Faz a exponenciação e mostra \"9\"\n",
        "x += 1\n",
        "print(x)\n",
        "# Mostra \"4\"\n",
        "x *= 2\n",
        "print(x)\n",
        "# Mostra \"8\"\n",
        "y = 2.5\n",
        "print(type(y))\n",
        "# Mostra \"<class 'float'>\"\n",
        "print(y, y + 1, y * 2, y ** 2)\n",
        "# Mostra \"2.5 3.5 5.0 6.25\"\n"
      ]
    }
  ]
}