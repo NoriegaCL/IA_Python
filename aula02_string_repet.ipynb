{
  "nbformat": 4,
  "nbformat_minor": 0,
  "metadata": {
    "colab": {
      "provenance": [],
      "authorship_tag": "ABX9TyN1BpoyaOpOCf9EiFzUd9oY",
      "include_colab_link": true
    },
    "kernelspec": {
      "name": "python3",
      "display_name": "Python 3"
    },
    "language_info": {
      "name": "python"
    }
  },
  "cells": [
    {
      "cell_type": "markdown",
      "metadata": {
        "id": "view-in-github",
        "colab_type": "text"
      },
      "source": [
        "<a href=\"https://colab.research.google.com/github/NoriegaCL/IA_Python/blob/main/aula02_string_repet.ipynb\" target=\"_parent\"><img src=\"https://colab.research.google.com/assets/colab-badge.svg\" alt=\"Open In Colab\"/></a>"
      ]
    },
    {
      "cell_type": "markdown",
      "source": [
        "funções para manipulações de strings\n"
      ],
      "metadata": {
        "id": "h_epRK50Ed6f"
      }
    },
    {
      "cell_type": "code",
      "source": [
        "teste = \"Apostila de Python\"\n",
        "len(teste)\n",
        "a = \"python\"\n",
        "a.capitalize()\n",
        "b = \"Linguagem Python\"\n",
        "b.count(\"n\")\n",
        "\n",
        "#startswith(): Verifica se uma string inicia com uma determinada sequência.\n",
        "c = \"Python\"\n",
        "c.startswith(\"Py\")\n",
        "#endswith(): Verifica se uma string termina com uma determinada sequência\n",
        "d = \"Python\"\n",
        "d.endswith(\"Py\")\n",
        "#exemplo\n",
        "n=\"carlosnoriega\"\n",
        "n.startswith(\"car\")and n.endswith(\"ega\")\n",
        "#O fatiamento é uma ferramenta usada para extrair apenas uma parte dos elementos de uma string. O formato usado é:\n",
        "#NomeDoString [LimiteInferior : LimiteSuperior]\n",
        "\n",
        "s = \"Python\"\n",
        "s[1:4]"
      ],
      "metadata": {
        "id": "Vsr_cHSqDxYb"
      },
      "execution_count": null,
      "outputs": []
    },
    {
      "cell_type": "markdown",
      "source": [
        "Estruturas de dados\n",
        "As estrutura de dados do tipo “Containers” disponíveis são listas, dicionários, sets e tuplas.\n"
      ],
      "metadata": {
        "id": "7uDnqEnm4RN3"
      }
    },
    {
      "cell_type": "code",
      "source": [
        "L = [1, 2, 3, 4]\n",
        "print(min(L) )\n",
        "print(max(L))\n",
        "print(sum(L))\n",
        "#adicionar elemento à lista\n",
        "L.append(100)\n",
        "print(L)\n",
        "#extend: insere uma lista no final de outra lista\n",
        "L = [0, 1, 2]\n",
        "L.extend([3, 4, 5]) #gera [0, 1, 2, 3, 4, 5]\n",
        "print(L)\n",
        "\n",
        "xs = [3, 1, 2, 'texto']\n",
        "print(xs)\n",
        "xs[2] = 'texto'\n",
        "print(xs)"
      ],
      "metadata": {
        "colab": {
          "base_uri": "https://localhost:8080/"
        },
        "id": "MDp62t5B_4_M",
        "outputId": "34e59ace-16d1-4d87-f7e1-08b454245edf"
      },
      "execution_count": 24,
      "outputs": [
        {
          "output_type": "stream",
          "name": "stdout",
          "text": [
            "1\n",
            "4\n",
            "10\n",
            "[1, 2, 3, 4, 100]\n",
            "[0, 1, 2, 3, 4, 5]\n",
            "[3, 1, 2, 'texto']\n",
            "[3, 1, 'texto', 'texto']\n"
          ]
        }
      ]
    },
    {
      "cell_type": "markdown",
      "source": [
        "**Estruturas de decisão**\n",
        "\n",
        "if <condição1>:\n",
        "          <instruções1>\n",
        "else :\n",
        "          <instruções2>\n",
        "\n",
        "\n",
        "```\n",
        "# Isto está formatado como código\n",
        "```\n",
        "\n"
      ],
      "metadata": {
        "id": "ChTQkg0hDJrp"
      }
    },
    {
      "cell_type": "code",
      "source": [
        "nota = float(input(\"Digite sua nota na disciplina:\"))\n",
        "if nota >= 6.0:\n",
        "  print('Aprovado!')\n",
        "else:\n",
        "  print('Reprovado!')\n"
      ],
      "metadata": {
        "colab": {
          "base_uri": "https://localhost:8080/"
        },
        "id": "WJJ9HECnB3SF",
        "outputId": "afa80185-f230-42d3-fcdc-f1e4242f0c80"
      },
      "execution_count": 25,
      "outputs": [
        {
          "output_type": "stream",
          "name": "stdout",
          "text": [
            "Digite sua nota na disciplina:3\n",
            "Reprovado!\n"
          ]
        }
      ]
    },
    {
      "cell_type": "markdown",
      "source": [
        "![image.png](data:image/png;base64,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)"
      ],
      "metadata": {
        "id": "wT-RKPB-DnHH"
      }
    },
    {
      "cell_type": "code",
      "source": [
        "idade = int(input(\"Digite sua idade:\"))\n",
        "if idade < 3:\n",
        "  print('Bebê')\n",
        "elif idade < 10:\n",
        "  print('Infantil')\n",
        "elif idade < 14:\n",
        "  print('Junior')\n",
        "elif idade < 18:\n",
        "  print('Adolescente')\n",
        "elif idade < 30:\n",
        "  print('Jovem')\n",
        "else:\n",
        "  print('Adulto')\n"
      ],
      "metadata": {
        "colab": {
          "base_uri": "https://localhost:8080/"
        },
        "id": "ZNyddCd7DsnQ",
        "outputId": "55a6acbf-cad8-43a3-bda3-9f727e4598bb"
      },
      "execution_count": 26,
      "outputs": [
        {
          "output_type": "stream",
          "name": "stdout",
          "text": [
            "Digite sua idade:5\n",
            "Infantil\n"
          ]
        }
      ]
    },
    {
      "cell_type": "markdown",
      "source": [
        "Laço While"
      ],
      "metadata": {
        "id": "a_Jcv2t_FO9W"
      }
    },
    {
      "cell_type": "code",
      "source": [
        "senha = \"54321\"\n",
        "leitura =\" \"\n",
        "while (leitura != senha):\n",
        "    leitura = input(\"Digite a senha: \")\n",
        "    if leitura == senha : print('Acesso liberado ')\n",
        "    else: print('Senha incorreta. Tente novamente')\n"
      ],
      "metadata": {
        "colab": {
          "base_uri": "https://localhost:8080/"
        },
        "id": "ZQ04Lj8tFYM5",
        "outputId": "4a4b7d6e-5fb9-404c-8f22-e5ce70e897e9"
      },
      "execution_count": 27,
      "outputs": [
        {
          "output_type": "stream",
          "name": "stdout",
          "text": [
            "Digite a senha: 12345\n",
            "Senha incorreta. Tente novamente\n",
            "Digite a senha: 33333\n",
            "Senha incorreta. Tente novamente\n",
            "Digite a senha: 54321\n",
            "Acesso liberado \n"
          ]
        }
      ]
    },
    {
      "cell_type": "code",
      "source": [
        "#Exemplo: Encontrar a soma de 5 valores.\n",
        "contador = 0\n",
        "somador = 0\n",
        "while contador < 5:\n",
        "     contador = contador + 1\n",
        "     valor = float(input('Digite o '+str(contador)+'º valor: '))\n",
        "     somador = somador + valor\n",
        "print('Soma = ', somador)\n"
      ],
      "metadata": {
        "id": "qFsg9p_wFs46"
      },
      "execution_count": null,
      "outputs": []
    }
  ]
}